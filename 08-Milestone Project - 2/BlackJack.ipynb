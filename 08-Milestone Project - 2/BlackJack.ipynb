{
 "cells": [
  {
   "cell_type": "markdown",
   "metadata": {},
   "source": [
    "# Classes"
   ]
  },
  {
   "cell_type": "code",
   "execution_count": null,
   "metadata": {},
   "outputs": [],
   "source": [
    "class Player:\n",
    "    \n",
    "    '''\n",
    "    Base class used to instantiate the dealer.\n",
    "    '''\n",
    "    \n",
    "    def __init__(self, name):\n",
    "        self.name = name\n",
    "        \n",
    "    def __str__(self):\n",
    "        return f'{self.name}'"
   ]
  },
  {
   "cell_type": "code",
   "execution_count": null,
   "metadata": {},
   "outputs": [],
   "source": [
    "class HumanPlayer(Player):\n",
    "    \n",
    "    '''\n",
    "    Class derived from base class Player. Additional attribute for bankroll balance for the bets placed by the human player.\n",
    "    '''\n",
    "    \n",
    "    def __init__(self, name, bankroll):\n",
    "        Player.__init__(self, name)\n",
    "        self.bankroll = bankroll\n",
    "        print(f'Your bankroll balance is {self.bankroll}.')\n",
    "        \n",
    "    def __str__(self):\n",
    "        return f'Player: {self.name}, Bankroll Balance: {self.bankroll}.'"
   ]
  },
  {
   "cell_type": "code",
   "execution_count": null,
   "metadata": {},
   "outputs": [],
   "source": [
    "class Card:\n",
    "    \n",
    "    def __init__(self, rank, suit):\n",
    "        self.rank = rank\n",
    "        self.suit = suit\n",
    "        \n",
    "    def __str__(self):\n",
    "        return self.rank + ' of ' + self.suit"
   ]
  },
  {
   "cell_type": "code",
   "execution_count": null,
   "metadata": {},
   "outputs": [],
   "source": [
    "class Deck:\n",
    "    \n",
    "    def __init__(self):\n",
    "        self.deck = []\n",
    "        for suit in suits_tpl:\n",
    "            for rank in ranks_tpl:\n",
    "                self.deck.append(Card(rank, suit))\n",
    "    \n",
    "    def __str__(self):\n",
    "        deck_str = ''\n",
    "        for card in self.deck:\n",
    "            deck_str += '\\n' + card.__str__()\n",
    "        return 'The deck consists of: '+ deck_str\n",
    "    \n",
    "    def shuffle(self):\n",
    "        random.shuffle(self.deck)\n",
    "    \n",
    "    def deal(self):\n",
    "        return self.deck.pop()"
   ]
  },
  {
   "cell_type": "code",
   "execution_count": null,
   "metadata": {},
   "outputs": [],
   "source": [
    "class Hand:\n",
    "    \n",
    "    def __init__(self):\n",
    "        self.cards = []\n",
    "        self.value = 0\n",
    "        self.aces = 0\n",
    "                \n",
    "    def __str__(self):\n",
    "        hand_str = ''\n",
    "        for card in self.cards:\n",
    "            hand_str += '\\n' + card.__str__()\n",
    "        hand_str += f'\\nThe total hand value is {self.value}'\n",
    "        return hand_str\n",
    "    \n",
    "    def add_card(self, card):\n",
    "        self.cards.append(card)\n",
    "        self.value += values_dct[card.rank]\n",
    "        \n",
    "        if card.rank == 'Ace':\n",
    "            self.aces += 1\n",
    "    \n",
    "    def initial_deal(self):\n",
    "        for i in range(1,3):\n",
    "            self.add_card(deck.deal())\n",
    "            \n",
    "    def adjust_for_aces(self):\n",
    "        if self.value > 21 and self.aces:\n",
    "            self.value -= 10\n",
    "            self.aces -= 1\n",
    "            \n",
    "    def check_value(self):\n",
    "        while self.value > 21 and self.aces:\n",
    "            self.adjust_for_aces()\n",
    "            print('Adjusted for an ace!')\n",
    "            \n",
    "        if self.value == 21:\n",
    "            print('Black Jack!')\n",
    "            return False\n",
    "        elif self.value > 21:\n",
    "            print('Bust!')\n",
    "            return False\n",
    "        else:\n",
    "            return True"
   ]
  },
  {
   "cell_type": "markdown",
   "metadata": {},
   "source": [
    "# Game functions"
   ]
  },
  {
   "cell_type": "code",
   "execution_count": null,
   "metadata": {},
   "outputs": [],
   "source": [
    "def get_bet_value(player):\n",
    "    while True:\n",
    "        try:\n",
    "            bet_value = int(input(f'Your current balance is: {player.bankroll}. How much do you want to bet?: '))\n",
    "        except:\n",
    "            print('Invalid value entered.')\n",
    "        else:\n",
    "            if bet_value > player1.bankroll:\n",
    "                print('You don\\'t have sufficient credit. Enter a lower value.')\n",
    "            else:\n",
    "                break\n",
    "\n",
    "    return bet_value"
   ]
  },
  {
   "cell_type": "code",
   "execution_count": null,
   "metadata": {},
   "outputs": [],
   "source": [
    "def compare_player_dealer_hand(player_hand, dealer_hand):\n",
    "    if player_hand.value <= dealer_hand.value:\n",
    "        print('The dealer wins!')\n",
    "        return False\n",
    "    else:\n",
    "        return True"
   ]
  },
  {
   "cell_type": "code",
   "execution_count": null,
   "metadata": {},
   "outputs": [],
   "source": [
    "def player_wins(player, bet_value):\n",
    "    player.bankroll += bet_value\n",
    "    print(f'You won. You receive double your bet. Your current balance is {player.bankroll}.')"
   ]
  },
  {
   "cell_type": "code",
   "execution_count": null,
   "metadata": {},
   "outputs": [],
   "source": [
    "def dealer_wins(player, bet_value):\n",
    "    player1.bankroll -= bet_value\n",
    "    print(f'You lost your bet. Your current balance is {player.bankroll}.')"
   ]
  },
  {
   "cell_type": "markdown",
   "metadata": {},
   "source": [
    "# Game logic"
   ]
  },
  {
   "cell_type": "code",
   "execution_count": null,
   "metadata": {
    "scrolled": true
   },
   "outputs": [],
   "source": [
    "import random\n",
    "\n",
    "suits_tpl = ('Hearts', 'Diamonds', 'Clubs', 'Spades')\n",
    "ranks_tpl = ('2', '3', '4', '5', '6', '7', '8', '9', '10',\n",
    "             'Jack', 'Queen', 'King', 'Ace')\n",
    "values_dct = {'2': 2, '3': 3, '4': 4, '5': 5, '6': 6,\n",
    "              '7': 7, '8': 8, '9': 9, '10': 10, 'Jack': 10,\n",
    "              'Queen': 10, 'King': 10, 'Ace': 11}\n",
    "\n",
    "game_on = True\n",
    "\n",
    "player_name = input('What is your name: ')\n",
    "player1 = HumanPlayer(player_name, 100)\n",
    "dealer = Player('Dealer')\n",
    "\n",
    "while game_on: # game\n",
    "    \n",
    "    win = False\n",
    "    \n",
    "    player1_hand = Hand()\n",
    "    dealer_hand = Hand()\n",
    "    \n",
    "    deck = Deck()\n",
    "    deck.shuffle()\n",
    "\n",
    "    # player places bet\n",
    "    bet_value = get_bet_value(player1)\n",
    "    \n",
    "    # player gets two cards, cards are displayed\n",
    "    player1_hand.initial_deal()\n",
    "    \n",
    "    while game_on: # player's turn\n",
    "\n",
    "        #check player hand's value\n",
    "        game_on = player1_hand.check_value()\n",
    "        \n",
    "        if not game_on:\n",
    "            break\n",
    "\n",
    "        print(f'\\nYou hold {player1_hand.__str__()}.')\n",
    "        choice = input('Do you want to hit or stand? ')\n",
    "\n",
    "        if choice == 'stand':\n",
    "            break\n",
    "        elif choice == 'hit':\n",
    "            dealt_card = deck.deal()\n",
    "            player1_hand.add_card(dealt_card)\n",
    "            print(f'You were dealt {dealt_card.__str__()}.')\n",
    "        else:\n",
    "            print('Invalid input. Please enter hit or stand.')\n",
    "\n",
    "    if player1_hand.value > 21:\n",
    "        dealer_wins(player1, bet_value)\n",
    "    elif player1_hand.value <= 21: # dealer's turn\n",
    "        \n",
    "        print(\"\\nNow it's the dealer's turn.\")\n",
    "\n",
    "        # dealer gets two cards, cards are displayed\n",
    "        dealer_hand.initial_deal()\n",
    "\n",
    "        game_on = True\n",
    "\n",
    "        while game_on:\n",
    "            \n",
    "            print(f'\\nThe dealer holds {dealer_hand.__str__()}.')\n",
    "            \n",
    "            # dealer hits until exceeds player score <21, hits 21, or goes bust\n",
    "            game_on = dealer_hand.check_value()\n",
    "            \n",
    "            if not game_on and dealer_hand.value != 21:\n",
    "                player_wins(player1, bet_value)\n",
    "                break\n",
    "\n",
    "            game_on = compare_player_dealer_hand(player1_hand, dealer_hand)\n",
    "\n",
    "            if not game_on:\n",
    "                dealer_wins(player1, bet_value)\n",
    "                break\n",
    "            \n",
    "            dealt_card = deck.deal()\n",
    "            dealer_hand.add_card(dealt_card)\n",
    "            print(f'The dealer was dealt {dealt_card.__str__()}.')\n",
    "\n",
    "    # player can decide to play again or end the game\n",
    "    if player1.bankroll:\n",
    "        while True:\n",
    "            choice = input('Would you like to play another round (yes/no)?: ')\n",
    "            if choice == 'yes':\n",
    "                game_on = True\n",
    "                break\n",
    "            elif choice == 'no':\n",
    "                print('Game over.')\n",
    "                game_on = False\n",
    "                break\n",
    "            else:\n",
    "                print('Invalid input. Please enter yes or no.')\n",
    "    else:\n",
    "        print('You are out of funds. Game over.')\n",
    "        break"
   ]
  }
 ],
 "metadata": {
  "kernelspec": {
   "display_name": "Python 3",
   "language": "python",
   "name": "python3"
  },
  "language_info": {
   "codemirror_mode": {
    "name": "ipython",
    "version": 3
   },
   "file_extension": ".py",
   "mimetype": "text/x-python",
   "name": "python",
   "nbconvert_exporter": "python",
   "pygments_lexer": "ipython3",
   "version": "3.7.1"
  },
  "toc": {
   "base_numbering": 1,
   "nav_menu": {
    "height": "78px",
    "width": "272px"
   },
   "number_sections": true,
   "sideBar": true,
   "skip_h1_title": false,
   "title_cell": "Table of Contents",
   "title_sidebar": "Contents",
   "toc_cell": false,
   "toc_position": {
    "height": "calc(100% - 180px)",
    "left": "10px",
    "top": "150px",
    "width": "165px"
   },
   "toc_section_display": true,
   "toc_window_display": false
  },
  "varInspector": {
   "cols": {
    "lenName": 16,
    "lenType": 16,
    "lenVar": 40
   },
   "kernels_config": {
    "python": {
     "delete_cmd_postfix": "",
     "delete_cmd_prefix": "del ",
     "library": "var_list.py",
     "varRefreshCmd": "print(var_dic_list())"
    },
    "r": {
     "delete_cmd_postfix": ") ",
     "delete_cmd_prefix": "rm(",
     "library": "var_list.r",
     "varRefreshCmd": "cat(var_dic_list()) "
    }
   },
   "position": {
    "height": "425.656px",
    "left": "896px",
    "right": "20px",
    "top": "48px",
    "width": "380.646px"
   },
   "types_to_exclude": [
    "module",
    "function",
    "builtin_function_or_method",
    "instance",
    "_Feature"
   ],
   "window_display": false
  }
 },
 "nbformat": 4,
 "nbformat_minor": 2
}
