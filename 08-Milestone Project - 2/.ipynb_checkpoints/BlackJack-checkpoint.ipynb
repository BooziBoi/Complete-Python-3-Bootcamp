{
 "cells": [
  {
   "cell_type": "markdown",
   "metadata": {},
   "source": [
    "BlackJack\n",
    "1 Player\n",
    "1 Dealer\n",
    "Dealer and Player have a hand of cards\n",
    "52 cards, 4 suits, value 1..11, face value 2..10, Jack, Queen, King, Ace (1 or 11)\n",
    "\n",
    "Player round: places a bet, hit (another card), stay (no more cards); player can go bust when hitting\n",
    "Dealer round: hits until he exceeds player value () or goes bust"
   ]
  },
  {
   "cell_type": "code",
   "execution_count": 5,
   "metadata": {},
   "outputs": [],
   "source": [
    "import random\n",
    "\n",
    "suits_tpl = ('Hearts', 'Diamonds', 'Clubs', 'Spades')\n",
    "ranks_tpl = ('2', '3', '4', '5', '6', '7', '8', '9', '10','Jack', 'Queen', 'King', 'Ace')\n",
    "values_dct = {'2': 2, '3': 3, '4': 4, '5': 5, '6': 6, '7': 7, '8': 8, '9': 9, '10': 10, 'Jack': 10, 'Queen': 10, 'King': 10, 'Ace': 11}\n",
    "\n",
    "game_on = True"
   ]
  },
  {
   "cell_type": "markdown",
   "metadata": {},
   "source": [
    "# Classes"
   ]
  },
  {
   "cell_type": "code",
   "execution_count": 6,
   "metadata": {},
   "outputs": [],
   "source": [
    "class Player:\n",
    "    \n",
    "    '''\n",
    "    Base class used to instantiate the dealer.\n",
    "    '''\n",
    "    \n",
    "    def __init__(self, name):\n",
    "        self.name = name\n",
    "        \n",
    "    def __str__(self):\n",
    "        return f'{self.name}'"
   ]
  },
  {
   "cell_type": "code",
   "execution_count": 7,
   "metadata": {},
   "outputs": [],
   "source": [
    "class HumanPlayer(Player):\n",
    "    \n",
    "    '''\n",
    "    Class derived from base class Player. Additional attribute for bankroll balance for the bets placed by the human player.\n",
    "    '''\n",
    "    \n",
    "    def __init__(self, name, bankroll):\n",
    "        Player.__init__(self, name)\n",
    "        self.bankroll = bankroll\n",
    "        print(f'Your bankroll balance is {self.bankroll}.')\n",
    "        \n",
    "    def __str__(self):\n",
    "        return f'Player: {self.name}, Bankroll Balance: {self.bankroll}.'"
   ]
  },
  {
   "cell_type": "code",
   "execution_count": 8,
   "metadata": {},
   "outputs": [],
   "source": [
    "class Card:\n",
    "    \n",
    "    def __init__(self, rank, suit):\n",
    "        self.rank = rank\n",
    "        self.suit = suit\n",
    "        \n",
    "    def __str__(self):\n",
    "        return self.rank + ' of ' + self.suit"
   ]
  },
  {
   "cell_type": "code",
   "execution_count": 9,
   "metadata": {},
   "outputs": [],
   "source": [
    "class Deck:\n",
    "    \n",
    "    def __init__(self):\n",
    "        self.deck = []\n",
    "        for suit in suits_tpl:\n",
    "            for rank in ranks_tpl:\n",
    "                self.deck.append(Card(rank, suit))\n",
    "    \n",
    "    def __str__(self):\n",
    "        deck_str = ''\n",
    "        for card in self.deck:\n",
    "            deck_str += '\\n' + card.__str__()\n",
    "        return 'The deck consists of: '+ deck_str\n",
    "    \n",
    "    def shuffle(self):\n",
    "        random.shuffle(self.deck)\n",
    "    \n",
    "    def deal(self):\n",
    "        return self.deck.pop()"
   ]
  },
  {
   "cell_type": "code",
   "execution_count": 10,
   "metadata": {},
   "outputs": [],
   "source": [
    "class Hand:\n",
    "    \n",
    "    def __init__(self):\n",
    "        self.cards = []\n",
    "        self.value = 0\n",
    "        self.aces = 0\n",
    "                \n",
    "    def __str__(self):\n",
    "        hand_str = ''\n",
    "        for card in self.cards:\n",
    "            hand_str += '\\n' + card.__str__()\n",
    "        hand_str += f'\\nYour total hand value is {self.value}'\n",
    "        return hand_str\n",
    "    \n",
    "    def add_card(self, card):\n",
    "        self.cards.append(card)\n",
    "        self.value += values_dct[card.rank]\n",
    "        \n",
    "        if card.rank == 'Ace':\n",
    "            self.aces += 1\n",
    "    \n",
    "    def initial_deal(self):\n",
    "        for i in range(1,3):\n",
    "            self.add_card(deck.deal())\n",
    "            \n",
    "    def adjust_for_aces(self):\n",
    "        if self.value > 21 and self.aces:\n",
    "            self.value -= 10\n",
    "            self.aces -= 1"
   ]
  },
  {
   "cell_type": "markdown",
   "metadata": {},
   "source": [
    "# Game functions"
   ]
  },
  {
   "cell_type": "code",
   "execution_count": 11,
   "metadata": {},
   "outputs": [],
   "source": [
    "def get_bet_value():\n",
    "    while True:\n",
    "        try:\n",
    "            bet_value = int(input(f'Your current balance is: {player1.bankroll}. How much do you want to bet?: '))\n",
    "        except:\n",
    "            print('Invalid value entered.')\n",
    "        else:\n",
    "            if bet_value > player1.bankroll:\n",
    "                print('You don\\'t have sufficient credit. Enter a lower value.')\n",
    "            else:\n",
    "                break\n",
    "\n",
    "    return bet_value"
   ]
  },
  {
   "cell_type": "code",
   "execution_count": 12,
   "metadata": {},
   "outputs": [],
   "source": [
    "def check_card_value(hand):\n",
    "    \n",
    "    if hand.value == 21:\n",
    "        print('21! You won!')\n",
    "    \n",
    "    while hand.value > 21 and hand.aces:\n",
    "        hand.adjust_for_aces()\n",
    "        print('Adjusted for an ace!')\n",
    "    \n",
    "    if hand.value > 21:\n",
    "        print('Bust!')"
   ]
  },
  {
   "cell_type": "code",
   "execution_count": 15,
   "metadata": {},
   "outputs": [],
   "source": [
    "def compare_player_dealer_hand(player_hand, dealer_hand):\n",
    "    if player_hand.value < dealer_hand:\n",
    "        print('The dealer wins!')"
   ]
  },
  {
   "cell_type": "markdown",
   "metadata": {},
   "source": [
    "# Game logic"
   ]
  },
  {
   "cell_type": "code",
   "execution_count": 13,
   "metadata": {},
   "outputs": [
    {
     "name": "stdout",
     "output_type": "stream",
     "text": [
      "What is your name: Mike\n",
      "Your bankroll balance is 100.\n",
      "Your current balance is: 100. How much do you want to bet?: 100\n"
     ]
    }
   ],
   "source": [
    "player_name = input('What is your name: ')\n",
    "\n",
    "player1 = HumanPlayer(player_name, 100)\n",
    "player1_hand = Hand()\n",
    "\n",
    "dealer = Player('Dealer')\n",
    "dealer_hand = Hand()\n",
    "\n",
    "deck = Deck()\n",
    "deck.shuffle()\n",
    "\n",
    "# player places bet\n",
    "bet_value = get_bet_value()"
   ]
  },
  {
   "cell_type": "code",
   "execution_count": 14,
   "metadata": {},
   "outputs": [
    {
     "name": "stdout",
     "output_type": "stream",
     "text": [
      "You hold \n",
      "Jack of Clubs\n",
      "Ace of Clubs\n",
      "Your total hand value is 21.\n"
     ]
    }
   ],
   "source": [
    "# player gets two cards, is told the cards\n",
    "player1_hand.initial_deal()\n",
    "print(f'You hold {player1_hand.__str__()}.')"
   ]
  },
  {
   "cell_type": "code",
   "execution_count": 12,
   "metadata": {},
   "outputs": [],
   "source": [
    "ace_of_hearts = Card('Ace','Hearts')"
   ]
  },
  {
   "cell_type": "code",
   "execution_count": null,
   "metadata": {},
   "outputs": [
    {
     "name": "stdout",
     "output_type": "stream",
     "text": [
      "You hold \n",
      "9 of Clubs\n",
      "6 of Hearts\n",
      "Your total hand value is 15.\n",
      "Do you want to hit or stay? Hit\n",
      "You hold \n",
      "9 of Clubs\n",
      "6 of Hearts\n",
      "Your total hand value is 15.\n",
      "Do you want to hit or stay? hit\n",
      "You were dealt Queen of Diamonds.\n",
      "Bust!\n",
      "You hold \n",
      "9 of Clubs\n",
      "6 of Hearts\n",
      "Queen of Diamonds\n",
      "Your total hand value is 25.\n"
     ]
    }
   ],
   "source": [
    "while game_on:\n",
    "    \n",
    "    #check player hand's value\n",
    "    check_card_value(player1_hand)\n",
    "    \n",
    "    # player can hit or stay (-> dealer's turn)\n",
    "    print(f'You hold {player1_hand.__str__()}.')\n",
    "    choice = input('Do you want to hit or stay? ')\n",
    "    \n",
    "    if choice == 'stay':\n",
    "        break\n",
    "    elif choice == 'hit':\n",
    "        dealt_card = deck.deal()\n",
    "        player1_hand.add_card(dealt_card)\n",
    "#        player1_hand.add_card(ace_of_hearts) # ace test\n",
    "        print(f'You were dealt {dealt_card.__str__()}.')\n",
    "\n",
    "game_on = True\n",
    "\n",
    "print(\"Now it's the dealer's turn.\\n\")\n",
    "    # dealer hits until exceeds player score <21, hits 21, or goes bust\n",
    "dealer_hand.initial_deal()\n",
    "\n",
    "\n",
    "\n",
    "    # player can decide to play again or end the game"
   ]
  },
  {
   "cell_type": "code",
   "execution_count": 14,
   "metadata": {},
   "outputs": [
    {
     "name": "stdout",
     "output_type": "stream",
     "text": [
      "Player: Mike, Bankroll Balance: 100. \n",
      "8 of Clubs\n",
      "Ace of Hearts\n",
      "Ace of Hearts\n",
      "Ace of Hearts\n",
      "Ace of Hearts 12 ; Dealer \n"
     ]
    }
   ],
   "source": [
    "print(player1, player1_hand, player1_hand.value, ';', dealer, dealer_hand)"
   ]
  },
  {
   "cell_type": "code",
   "execution_count": null,
   "metadata": {},
   "outputs": [],
   "source": []
  }
 ],
 "metadata": {
  "kernelspec": {
   "display_name": "Python 3",
   "language": "python",
   "name": "python3"
  }
 },
 "nbformat": 4,
 "nbformat_minor": 2
}
