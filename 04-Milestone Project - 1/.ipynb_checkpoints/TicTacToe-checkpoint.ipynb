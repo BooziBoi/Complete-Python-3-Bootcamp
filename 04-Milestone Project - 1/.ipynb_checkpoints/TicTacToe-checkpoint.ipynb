{
 "cells": [
  {
   "cell_type": "code",
   "execution_count": 1,
   "metadata": {},
   "outputs": [],
   "source": [
    "p1_mv_lst = []\n",
    "p2_mv_lst = []\n",
    "pssbl_mv_lst = [1,2,3,4,5,6,7,8,9]\n",
    "rnd_cnt = 1\n",
    "field = ' ___________\\n|_1_|_2_|_3_|\\n|_4_|_5_|_6_|\\n|_7_|_8_|_9_| '\n",
    "win_comb = {1: [1,2,3], 2: [4,5,6], 3: [7,8,9], 4: [1,4,7], 5: [2,5,8], 6: [3,6,9], 7: [1,5,9], 8: [3,5,7]}\n",
    "game_over = False"
   ]
  },
  {
   "cell_type": "code",
   "execution_count": 2,
   "metadata": {
    "scrolled": false
   },
   "outputs": [
    {
     "name": "stdout",
     "output_type": "stream",
     "text": [
      " ___________\n",
      "|_1_|_2_|_3_|\n",
      "|_4_|_5_|_6_|\n",
      "|_7_|_8_|_9_| \n",
      "It's Player O's turn. Type the number of the field that you want to mark: a\n",
      "Invalid input.\n",
      "It's Player O's turn. Type the number of the field that you want to mark: 1\n",
      " ___________\n",
      "|_O_|_2_|_3_|\n",
      "|_4_|_5_|_6_|\n",
      "|_7_|_8_|_9_| \n",
      "It's Player X's turn. Type the number of the field that you want to mark: 2\n",
      " ___________\n",
      "|_O_|_X_|_3_|\n",
      "|_4_|_5_|_6_|\n",
      "|_7_|_8_|_9_| \n",
      "It's Player O's turn. Type the number of the field that you want to mark: 4\n",
      " ___________\n",
      "|_O_|_X_|_3_|\n",
      "|_O_|_5_|_6_|\n",
      "|_7_|_8_|_9_| \n",
      "It's Player X's turn. Type the number of the field that you want to mark: 7\n",
      " ___________\n",
      "|_O_|_X_|_3_|\n",
      "|_O_|_5_|_6_|\n",
      "|_X_|_8_|_9_| \n",
      "It's Player O's turn. Type the number of the field that you want to mark: 8\n",
      " ___________\n",
      "|_O_|_X_|_3_|\n",
      "|_O_|_5_|_6_|\n",
      "|_X_|_O_|_9_| \n",
      "It's Player X's turn. Type the number of the field that you want to mark: 5\n",
      " ___________\n",
      "|_O_|_X_|_3_|\n",
      "|_O_|_X_|_6_|\n",
      "|_X_|_O_|_9_| \n",
      "It's Player O's turn. Type the number of the field that you want to mark: 3\n",
      " ___________\n",
      "|_O_|_X_|_O_|\n",
      "|_O_|_X_|_6_|\n",
      "|_X_|_O_|_9_| \n",
      "It's Player X's turn. Type the number of the field that you want to mark: 6\n",
      " ___________\n",
      "|_O_|_X_|_O_|\n",
      "|_O_|_X_|_X_|\n",
      "|_X_|_O_|_9_| \n",
      "It's Player O's turn. Type the number of the field that you want to mark: 9\n",
      "Draw. Game over.\n"
     ]
    }
   ],
   "source": [
    "while 1:\n",
    "    \n",
    "    if len(pssbl_mv_lst) % 2 != 0:\n",
    "        lst = p1_mv_lst\n",
    "        marker = 'O'\n",
    "        player = 'Player O'\n",
    "    else:\n",
    "        lst = p2_mv_lst\n",
    "        marker = 'X'\n",
    "        player = 'Player X'\n",
    "        \n",
    "    print(field)\n",
    "    \n",
    "    while 1:\n",
    "        while 1:\n",
    "            try:\n",
    "                inp = int(input(f\"It's {player}'s turn. Type the number of the field that you want to mark: \"))\n",
    "                break\n",
    "            except:\n",
    "                print('Invalid input.')\n",
    "        if inp in pssbl_mv_lst:\n",
    "            pssbl_mv_lst.remove(inp)\n",
    "            lst.append(inp)\n",
    "            field = field.replace(str(inp),marker)\n",
    "            break\n",
    "        elif inp in p1_mv_lst or inp in p2_mv_lst:\n",
    "            print(f'Field {inp} is already marked.')\n",
    "    \n",
    "    if len(pssbl_mv_lst) < 5:\n",
    "        for k in range(1,9):\n",
    "            cnt = 0\n",
    "            \n",
    "            for i in lst:\n",
    "                if i in win_comb[k]:\n",
    "                    cnt += 1\n",
    "                \n",
    "            if cnt == 3:\n",
    "                print(field)\n",
    "                print(f'{player} won!')\n",
    "                game_over = True\n",
    "                break\n",
    "            \n",
    "            if len(pssbl_mv_lst) == 0:\n",
    "                print('Draw. Game over.')\n",
    "                game_over = True\n",
    "                break\n",
    "    \n",
    "    if game_over:\n",
    "        break"
   ]
  },
  {
   "cell_type": "code",
   "execution_count": 3,
   "metadata": {},
   "outputs": [
    {
     "data": {
      "text/plain": [
       "([1, 4, 7], [2, 5], [3, 6, 8, 9], 1, True)"
      ]
     },
     "execution_count": 3,
     "metadata": {},
     "output_type": "execute_result"
    }
   ],
   "source": [
    "p1_mv_lst, p2_mv_lst, pssbl_mv_lst, inp, game_over"
   ]
  },
  {
   "cell_type": "code",
   "execution_count": 1,
   "metadata": {},
   "outputs": [
    {
     "ename": "NameError",
     "evalue": "name 'game_over' is not defined",
     "output_type": "error",
     "traceback": [
      "\u001b[1;31m---------------------------------------------------------------------------\u001b[0m",
      "\u001b[1;31mNameError\u001b[0m                                 Traceback (most recent call last)",
      "\u001b[1;32m<ipython-input-1-b330f3ab9b66>\u001b[0m in \u001b[0;36m<module>\u001b[1;34m\u001b[0m\n\u001b[1;32m----> 1\u001b[1;33m \u001b[1;32mnot\u001b[0m \u001b[0mgame_over\u001b[0m\u001b[1;33m\u001b[0m\u001b[1;33m\u001b[0m\u001b[0m\n\u001b[0m",
      "\u001b[1;31mNameError\u001b[0m: name 'game_over' is not defined"
     ]
    }
   ],
   "source": [
    "not game_over"
   ]
  },
  {
   "cell_type": "code",
   "execution_count": null,
   "metadata": {},
   "outputs": [],
   "source": []
  }
 ],
 "metadata": {
  "kernelspec": {
   "display_name": "Python 3",
   "language": "python",
   "name": "python3"
  },
  "language_info": {
   "codemirror_mode": {
    "name": "ipython",
    "version": 3
   },
   "file_extension": ".py",
   "mimetype": "text/x-python",
   "name": "python",
   "nbconvert_exporter": "python",
   "pygments_lexer": "ipython3",
   "version": "3.7.1"
  }
 },
 "nbformat": 4,
 "nbformat_minor": 2
}
